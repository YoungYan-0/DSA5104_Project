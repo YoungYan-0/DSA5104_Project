{
 "cells": [
  {
   "cell_type": "code",
   "execution_count": 1,
   "metadata": {},
   "outputs": [],
   "source": [
    "import pandas as pd\n",
    "import numpy as np"
   ]
  },
  {
   "cell_type": "code",
   "execution_count": 3,
   "metadata": {},
   "outputs": [],
   "source": [
    "listings_clean = pd.read_csv('../../airbnb/listings_clean.csv')\n",
    "transaction = pd.read_csv('../../airbnb/transactions.csv')\n",
    "review = pd.read_csv('../../airbnb/reviews.csv')\n",
    "calendars = pd.read_csv('../../airbnb/calendar.csv')"
   ]
  },
  {
   "cell_type": "code",
   "execution_count": 4,
   "metadata": {},
   "outputs": [],
   "source": [
    "listings_clean['email_verified'] = listings_clean['host_verifications'].str.contains('email').replace({True: 1, False: 0})\n",
    "listings_clean['phone_verified'] = listings_clean['host_verifications'].str.contains('phone').replace({True: 1, False: 0})\n",
    "listings_clean['work_email_verified'] = listings_clean['host_verifications'].str.contains('work_email').replace({True: 1, False: 0})\n"
   ]
  },
  {
   "cell_type": "markdown",
   "metadata": {},
   "source": [
    "### Customer"
   ]
  },
  {
   "cell_type": "code",
   "execution_count": 6,
   "metadata": {},
   "outputs": [],
   "source": [
    "customer = review.loc[:, ['reviewer_id', 'reviewer_name']].rename(columns={'reviewer_id': 'cid', 'reviewer_name': 'name'})\n",
    "customer = customer.drop_duplicates(subset=['cid'])\n",
    "customer['name'] = customer['name'].str.replace('\\n', '', regex=False)\n",
    "customer['name'] = customer['name'].str.replace('\\r', '', regex=False)\n",
    "customer['name'] = customer['name'].str.replace('|', '', regex=False)\n",
    "customer.to_csv('../../airbnb/sql/customer.csv', index=False, sep= '|', lineterminator='\\r\\n')"
   ]
  },
  {
   "cell_type": "markdown",
   "metadata": {},
   "source": [
    "### Transactions"
   ]
  },
  {
   "cell_type": "code",
   "execution_count": 7,
   "metadata": {},
   "outputs": [],
   "source": [
    "transactions = transaction.loc[:, ['id', 'reviewer_id', 'listing_id', 'start_date','end_date','total_price','comments']].rename(columns={'listing_id': 'property', 'id': 'tid', 'reviewer_id': 'customer', 'start_date': 'start_date', 'end_date': 'end_date', 'total_price': 'total_price', 'comments': 'review'})\n",
    "transactions = transactions.drop_duplicates(subset=['tid'])\n",
    "transactions['review'] = transactions['review'].str.replace('\\n', '', regex=False)\n",
    "transactions['review'] = transactions['review'].str.replace('\\r', '', regex=False)\n",
    "transactions['review'] = transactions['review'].str.replace('|', '', regex=False)\n",
    "transactions.to_csv('../../airbnb/sql/transactions.csv', index=False, sep= '|',lineterminator='\\r\\n')"
   ]
  },
  {
   "cell_type": "markdown",
   "metadata": {},
   "source": [
    "### Calendar"
   ]
  },
  {
   "cell_type": "code",
   "execution_count": 8,
   "metadata": {},
   "outputs": [],
   "source": [
    "calendar = calendars.loc[:, ['listing_id', 'date', 'available', 'minimum_nights', 'maximum_nights', 'price', 'adjusted_price']].rename(columns={'listing_id': 'property', 'date': 'date', 'price': 'price', 'available': 'availability', 'minimum_nights': 'min_nights', 'maximum_nights': 'max_nights', 'adjusted_price': 'adjusted_price'})\n",
    "calendar = calendar.drop_duplicates(subset=['property', 'date'])\n",
    "calendar.to_csv('../../airbnb/sql/calendar.csv', index=False, sep= '|',lineterminator='\\r\\n')"
   ]
  },
  {
   "cell_type": "markdown",
   "metadata": {},
   "source": [
    "### Listing"
   ]
  },
  {
   "cell_type": "code",
   "execution_count": 12,
   "metadata": {},
   "outputs": [],
   "source": [
    "listing = listings_clean.loc[:, ['id', 'name','description','neighbourhood', 'neighborhood_overview', 'host_id','latitude','longitude','property_type','accommodates','bathrooms_text','bedrooms','beds','amenities']].rename(columns={'id': 'lid', 'name': 'name', 'description': 'description', 'neighbourhood': 'neighbourhood', 'neighborhood_overview':'overview', 'host_id': 'host', 'latitude': 'latitude', 'longitude': 'longitude', 'property_type': 'property_type', 'accommodates': 'accommodates', 'bathrooms_text': 'bathrooms', 'bedrooms': 'bedrooms', 'beds': 'beds', 'amenities': 'amenities'})\n",
    "listing = listing.drop_duplicates(subset=['lid'])\n",
    "listing['beds'] = listing['beds'].fillna(0)\n",
    "listing['bedrooms'] = listing['bedrooms'].fillna(0)\n",
    "for col in ['name', 'description', 'neighbourhood','overview','bathrooms','amenities']:\n",
    "    listing[col] = listing[col].str.replace('\\r', '', regex=False)\n",
    "    listing[col] = listing[col].str.replace('\\n', '', regex=False)\n",
    "    listing[col] = listing[col].str.replace('|', '', regex=False)\n",
    "listing.to_csv('../../airbnb/sql/listing.csv', index=False, sep= '|',lineterminator='\\r\\n')"
   ]
  },
  {
   "cell_type": "markdown",
   "metadata": {},
   "source": [
    "### Host"
   ]
  },
  {
   "cell_type": "code",
   "execution_count": 14,
   "metadata": {},
   "outputs": [],
   "source": [
    "host = listings_clean.loc[:, ['host_id', 'host_name', 'host_since', 'host_location', 'host_about','host_response_time','host_response_rate','host_acceptance_rate','host_is_superhost', 'host_neighbourhood', 'email_verified', 'phone_verified', 'work_email_verified','host_identity_verified']].rename(columns={'host_id': 'hid', 'host_name': 'name', 'host_since': 'since', 'host_location': 'location', 'host_about': 'description','host_response_time': 'response_time','host_response_rate': 'response_rate','host_acceptance_rate': 'acceptance','host_is_superhost': 'is_super_host', 'host_neighbourhood': 'neighbourhood','host_identity_verified': 'identity_verified', 'email_verified': 'email_verified', 'phone_verified': 'phone_verified', 'work_email_verified': 'work_email_verified'})\n",
    "host['response_rate'] = host['response_rate'].str.replace('%', '').astype(float)\n",
    "host['acceptance'] = host['acceptance'].str.replace('%', '').astype(float)\n",
    "host['response_rate'] = host['response_rate'].fillna(0)\n",
    "host['acceptance'] = host['acceptance'].fillna(0)\n",
    "host['response_rate'] = host['response_rate']/100\n",
    "host['acceptance'] = host['acceptance']/100\n",
    "host['is_super_host'] = host['is_super_host'].replace({'t': 1, 'f': 0})\n",
    "host['identity_verified'] = host['identity_verified'].replace({'t': 1, 'f': 0})\n",
    "host = host.drop_duplicates(subset=['hid'])\n",
    "for col in ['name', 'location', 'description']:\n",
    "    host[col]=host[col].str.replace('\\r', '', regex=False)\n",
    "    host[col]=host[col].str.replace('\\n', '', regex=False)\n",
    "    host[col]=host[col].str.replace('|', '', regex=False)\n",
    "host.to_csv('../../airbnb/sql/host.csv', index=False, sep= '|',lineterminator='\\r\\n')"
   ]
  },
  {
   "cell_type": "markdown",
   "metadata": {},
   "source": [
    "### Host_url"
   ]
  },
  {
   "cell_type": "code",
   "execution_count": 15,
   "metadata": {},
   "outputs": [],
   "source": [
    "host_url = listings_clean.loc[:, ['host_id', 'host_url']].rename(columns={'host_id': 'hid', 'host_url': 'url'})\n",
    "host_url = host_url.drop_duplicates(subset=['hid'])\n",
    "host_url['url'] = host_url['url'].replace('\\r', '')\n",
    "host_url['url'] = host_url['url'].replace('\\n', '')\n",
    "host_url['url'] = host_url['url'].replace('|', '')\n",
    "host_url.to_csv('../../airbnb/sql/host_url.csv', index=False, sep= '|',lineterminator='\\r\\n')"
   ]
  },
  {
   "cell_type": "markdown",
   "metadata": {},
   "source": [
    "### Host_thumbnail"
   ]
  },
  {
   "cell_type": "code",
   "execution_count": 16,
   "metadata": {},
   "outputs": [],
   "source": [
    "host_thumbnail = listings_clean.loc[:, ['host_id', 'host_thumbnail_url']].rename(columns={'host_id': 'hid', 'host_thumbnail_url': 'thumbnail'})\n",
    "host_thumbnail = host_thumbnail.drop_duplicates(subset=['hid'])\n",
    "host_thumbnail['thumbnail'] = host_thumbnail['thumbnail'].replace('\\r', '', regex=False)\n",
    "host_thumbnail['thumbnail'] = host_thumbnail['thumbnail'].replace('\\n', '', regex=False)\n",
    "host_thumbnail['thumbnail'] = host_thumbnail['thumbnail'].replace('|', '', regex=False)\n",
    "host_thumbnail.to_csv('../../airbnb/sql/host_thumbnail.csv', index=False, sep= '|',lineterminator='\\r\\n')"
   ]
  },
  {
   "cell_type": "markdown",
   "metadata": {},
   "source": [
    "### Host_picture"
   ]
  },
  {
   "cell_type": "code",
   "execution_count": 17,
   "metadata": {},
   "outputs": [],
   "source": [
    "host_picture = listings_clean.loc[:, ['host_id', 'host_picture_url']].rename(columns={'host_id': 'hid', 'host_picture_url': 'picture'})\n",
    "host_picture = host_picture.drop_duplicates(subset=['hid'])\n",
    "host_picture['picture'] = host_picture['picture'].replace('\\r', '', regex=False)\n",
    "host_picture['picture'] = host_picture['picture'].replace('\\n', '', regex=False)\n",
    "host_picture['picture'] = host_picture['picture'].replace('|', '', regex=False)\n",
    "host_picture.to_csv('../../airbnb/sql/host_picture.csv', index=False, sep= '|',lineterminator='\\r\\n')"
   ]
  },
  {
   "cell_type": "markdown",
   "metadata": {},
   "source": [
    "### Listing_url"
   ]
  },
  {
   "cell_type": "code",
   "execution_count": 18,
   "metadata": {},
   "outputs": [],
   "source": [
    "listing_url = listings_clean.loc[:, ['id', 'listing_url']].rename(columns={'id': 'lid', 'listing_url': 'url'})\n",
    "listing_url = listing_url.drop_duplicates(subset=['lid'])\n",
    "listing_url['url'] = listing_url['url'].replace('\\r', '', regex=False)\n",
    "listing_url['url'] = listing_url['url'].replace('\\n', '', regex=False)\n",
    "listing_url['url'] = listing_url['url'].replace('|', '', regex=False)\n",
    "listing_url.to_csv('../../airbnb/sql/listing_url.csv', index=False, sep= '|',lineterminator='\\r\\n')"
   ]
  },
  {
   "cell_type": "markdown",
   "metadata": {},
   "source": [
    "### Listing_picture"
   ]
  },
  {
   "cell_type": "code",
   "execution_count": 24,
   "metadata": {},
   "outputs": [],
   "source": [
    "listing_picture = listings_clean.loc[:, ['id', 'picture_url']].rename(columns={'id': 'lid', 'picture_url': 'picture'})\n",
    "listing_picture = listing_picture.drop_duplicates(subset=['lid'])\n",
    "listing_picture['picture'] = listing_picture['picture'].replace('\\r', '', regex=False)\n",
    "listing_picture['picture'] = listing_picture['picture'].replace('\\n', '', regex=False)\n",
    "listing_picture['picture'] = listing_picture['picture'].replace('|', '', regex=False)\n",
    "listing_picture.to_csv('../../airbnb/sql/listing_picture.csv', index=False, sep= '|',lineterminator='\\r\\n')"
   ]
  }
 ],
 "metadata": {
  "kernelspec": {
   "display_name": "Python 3.10.8 64-bit",
   "language": "python",
   "name": "python3"
  },
  "language_info": {
   "codemirror_mode": {
    "name": "ipython",
    "version": 3
   },
   "file_extension": ".py",
   "mimetype": "text/x-python",
   "name": "python",
   "nbconvert_exporter": "python",
   "pygments_lexer": "ipython3",
   "version": "3.10.8"
  },
  "orig_nbformat": 4,
  "vscode": {
   "interpreter": {
    "hash": "b0fa6594d8f4cbf19f97940f81e996739fb7646882a419484c72d19e05852a7e"
   }
  }
 },
 "nbformat": 4,
 "nbformat_minor": 2
}
