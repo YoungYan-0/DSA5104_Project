{
 "cells": [
  {
   "cell_type": "code",
   "execution_count": 19,
   "metadata": {},
   "outputs": [],
   "source": [
    "import pandas as pd\n",
    "import numpy as np\n",
    "\n"
   ]
  },
  {
   "cell_type": "code",
   "execution_count": 20,
   "metadata": {},
   "outputs": [],
   "source": [
    "listings_clean = pd.read_csv('listings_clean.csv')\n",
    "transaction = pd.read_csv('transactions.csv')\n",
    "review = pd.read_csv('reviews.csv')\n",
    "calendars = pd.read_csv('calendar.csv')\n"
   ]
  },
  {
   "cell_type": "code",
   "execution_count": 21,
   "metadata": {},
   "outputs": [],
   "source": [
    "# X.loc[X['property_type'].str.contains('bungalow'), 'property_type'] = 'bungalow'\n",
    "listings_clean['email_verified'] = listings_clean['host_verifications'].str.contains('email').replace({True: 1, False: 0})\n",
    "listings_clean['phone_verified'] = listings_clean['host_verifications'].str.contains('phone').replace({True: 1, False: 0})\n",
    "listings_clean['work_email_verified'] = listings_clean['host_verifications'].str.contains('work_email').replace({True: 1, False: 0})\n",
    "# listings_clean['host_verifications'].str.contains('email')\n"
   ]
  },
  {
   "cell_type": "code",
   "execution_count": 22,
   "metadata": {},
   "outputs": [
    {
     "data": {
      "text/plain": [
       "Index(['listing_id', 'date', 'available', 'price', 'adjusted_price',\n",
       "       'minimum_nights', 'maximum_nights'],\n",
       "      dtype='object')"
      ]
     },
     "execution_count": 22,
     "metadata": {},
     "output_type": "execute_result"
    }
   ],
   "source": [
    "calendars.columns"
   ]
  },
  {
   "cell_type": "code",
   "execution_count": 23,
   "metadata": {},
   "outputs": [],
   "source": [
    "customer = review.loc[:, ['reviewer_id', 'reviewer_name']].rename(columns={'reviewer_id': 'cid', 'reviewer_name': 'name'})\n",
    "transactions = transaction.loc[:, ['id', 'reviewer_id', 'listing_id', 'start_date','end_date','total_price','comments']].rename(columns={'listing_id': 'property', 'id': 'tid', 'reviewer_id': 'customer', 'start_date': 'start_date', 'end_date': 'end_date', 'total_price': 'total_price', 'comments': 'review'})\n",
    "calendar = calendars.loc[:, ['listing_id', 'date', 'available', 'minimum_nights', 'maximum_nights', 'price', 'adjusted_price']].rename(columns={'listing_id': 'property', 'date': 'date', 'price': 'price', 'available': 'availability', 'minimum_nights': 'min_nights', 'maximum_nights': 'max_nights', 'adjusted_price': 'adjusted_price'})\n",
    "listing = listings_clean.loc[:, ['id', 'name','description','neighbourhood', 'host_id','latitude','longitude','property_type','accommodates','bathrooms_text','bedrooms','beds','amenities']].rename(columns={'id': 'lid', 'name': 'name', 'description': 'description', 'neighbourhood': 'neighbourhood', 'host_id': 'host', 'latitude': 'latitude', 'longitude': 'longitude', 'property_type': 'property_type', 'accommodates': 'accommodates', 'bathrooms_text': 'bathrooms', 'bedrooms': 'bedrooms', 'beds': 'beds', 'amenities': 'amenities'})\n",
    "neighborhood = listings_clean.loc[:, ['neighbourhood', 'neighborhood_overview']].rename(columns={'neighbourhood': 'name', 'neighborhood_overview': 'overview'})\n",
    "host = listings_clean.loc[:, ['host_id', 'host_name', 'host_since', 'host_location', 'host_about','host_response_time','host_response_rate','host_acceptance_rate','host_is_superhost', 'host_neighbourhood', 'email_verified', 'phone_verified', 'work_email_verified','host_identity_verified']].rename(columns={'host_id': 'hid', 'host_name': 'name', 'host_since': 'since', 'host_location': 'location', 'host_about': 'description','host_response_time': 'response_time','host_response_rate': 'response_rate','host_acceptance_rate': 'acceptance','host_is_superhost': 'is_super_host', 'host_neighbourhood': 'neighbourhood','host_identity_verified': 'identity_verified', 'email_verified': 'email_verified', 'phone_verified': 'phone_verified', 'work_email_verified': 'work_email_verified'})\n",
    "host_url = listings_clean.loc[:, ['host_id', 'host_url']].rename(columns={'host_id': 'hid', 'host_url': 'url'})\n",
    "host_thumbnail = listings_clean.loc[:, ['host_id', 'host_thumbnail_url']].rename(columns={'host_id': 'hid', 'host_thumbnail_url': 'thumbnail'})\n",
    "host_picture = listings_clean.loc[:, ['host_id', 'host_picture_url']].rename(columns={'host_id': 'hid', 'host_picture_url': 'picture'})\n",
    "listing_url = listings_clean.loc[:, ['id', 'listing_url']].rename(columns={'id': 'lid', 'listing_url': 'url'})\n",
    "listing_picture = listings_clean.loc[:, ['id', 'picture_url']].rename(columns={'id': 'lid', 'picture_url': 'picture'})\n"
   ]
  },
  {
   "cell_type": "code",
   "execution_count": 24,
   "metadata": {},
   "outputs": [],
   "source": [
    "customer.to_csv('../customer.csv', index=False)\n",
    "transactions.to_csv('../transactions.csv', index=False)\n",
    "calendar.to_csv('../calendar.csv', index=False)\n",
    "listing.to_csv('../listing.csv', index=False)\n",
    "neighborhood.to_csv('../neighborhood.csv', index=False)\n",
    "host.to_csv('../host.csv', index=False)\n",
    "host_url.to_csv('../host_url.csv', index=False)\n",
    "host_thumbnail.to_csv('../host_thumbnail.csv', index=False)\n",
    "host_picture.to_csv('../host_picture.csv', index=False)\n",
    "listing_url.to_csv('../listing_url.csv', index=False)\n",
    "listing_picture.to_csv('../listing_picture.csv', index=False)"
   ]
  },
  {
   "cell_type": "code",
   "execution_count": null,
   "metadata": {},
   "outputs": [],
   "source": []
  }
 ],
 "metadata": {
  "kernelspec": {
   "display_name": "Python 3.9.7 ('base')",
   "language": "python",
   "name": "python3"
  },
  "language_info": {
   "codemirror_mode": {
    "name": "ipython",
    "version": 3
   },
   "file_extension": ".py",
   "mimetype": "text/x-python",
   "name": "python",
   "nbconvert_exporter": "python",
   "pygments_lexer": "ipython3",
   "version": "3.9.7"
  },
  "orig_nbformat": 4,
  "vscode": {
   "interpreter": {
    "hash": "4a34fcaac0e5893472f868672a82fe4449d1e705bfc303edb2d171ea01fa67be"
   }
  }
 },
 "nbformat": 4,
 "nbformat_minor": 2
}
