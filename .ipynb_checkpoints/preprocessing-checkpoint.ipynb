{
 "cells": [
  {
   "cell_type": "code",
   "execution_count": 86,
   "metadata": {},
   "outputs": [],
   "source": [
    "import pandas as pd;\n",
    "\n",
    "# Read the data\n",
    "listings = pd.read_csv('../airbnb/listings.csv', encoding='utf-8');"
   ]
  },
  {
   "cell_type": "code",
   "execution_count": 87,
   "metadata": {},
   "outputs": [
    {
     "name": "stdout",
     "output_type": "stream",
     "text": [
      "<class 'pandas.core.frame.DataFrame'>\n",
      "RangeIndex: 17074 entries, 0 to 17073\n",
      "Data columns (total 74 columns):\n",
      " #   Column                                        Non-Null Count  Dtype  \n",
      "---  ------                                        --------------  -----  \n",
      " 0   id                                            17074 non-null  int64  \n",
      " 1   listing_url                                   17074 non-null  object \n",
      " 2   scrape_id                                     17074 non-null  int64  \n",
      " 3   last_scraped                                  17074 non-null  object \n",
      " 4   name                                          17065 non-null  object \n",
      " 5   description                                   16169 non-null  object \n",
      " 6   neighborhood_overview                         9459 non-null   object \n",
      " 7   picture_url                                   17074 non-null  object \n",
      " 8   host_id                                       17074 non-null  int64  \n",
      " 9   host_url                                      17074 non-null  object \n",
      " 10  host_name                                     17072 non-null  object \n",
      " 11  host_since                                    17072 non-null  object \n",
      " 12  host_location                                 17030 non-null  object \n",
      " 13  host_about                                    9833 non-null   object \n",
      " 14  host_response_time                            11445 non-null  object \n",
      " 15  host_response_rate                            11445 non-null  object \n",
      " 16  host_acceptance_rate                          10295 non-null  object \n",
      " 17  host_is_superhost                             17072 non-null  object \n",
      " 18  host_thumbnail_url                            17072 non-null  object \n",
      " 19  host_picture_url                              17072 non-null  object \n",
      " 20  host_neighbourhood                            9812 non-null   object \n",
      " 21  host_listings_count                           17072 non-null  float64\n",
      " 22  host_total_listings_count                     17072 non-null  float64\n",
      " 23  host_verifications                            17074 non-null  object \n",
      " 24  host_has_profile_pic                          17072 non-null  object \n",
      " 25  host_identity_verified                        17072 non-null  object \n",
      " 26  neighbourhood                                 9459 non-null   object \n",
      " 27  neighbourhood_cleansed                        17074 non-null  object \n",
      " 28  neighbourhood_group_cleansed                  0 non-null      float64\n",
      " 29  latitude                                      17074 non-null  float64\n",
      " 30  longitude                                     17074 non-null  float64\n",
      " 31  property_type                                 17074 non-null  object \n",
      " 32  room_type                                     17074 non-null  object \n",
      " 33  accommodates                                  17074 non-null  int64  \n",
      " 34  bathrooms                                     0 non-null      float64\n",
      " 35  bathrooms_text                                16937 non-null  object \n",
      " 36  bedrooms                                      15371 non-null  float64\n",
      " 37  beds                                          16557 non-null  float64\n",
      " 38  amenities                                     17074 non-null  object \n",
      " 39  price                                         17074 non-null  object \n",
      " 40  minimum_nights                                17074 non-null  int64  \n",
      " 41  maximum_nights                                17074 non-null  int64  \n",
      " 42  minimum_minimum_nights                        17073 non-null  float64\n",
      " 43  maximum_minimum_nights                        17073 non-null  float64\n",
      " 44  minimum_maximum_nights                        17073 non-null  float64\n",
      " 45  maximum_maximum_nights                        17073 non-null  float64\n",
      " 46  minimum_nights_avg_ntm                        17073 non-null  float64\n",
      " 47  maximum_nights_avg_ntm                        17073 non-null  float64\n",
      " 48  calendar_updated                              0 non-null      float64\n",
      " 49  has_availability                              17074 non-null  object \n",
      " 50  availability_30                               17074 non-null  int64  \n",
      " 51  availability_60                               17074 non-null  int64  \n",
      " 52  availability_90                               17074 non-null  int64  \n",
      " 53  availability_365                              17074 non-null  int64  \n",
      " 54  calendar_last_scraped                         17074 non-null  object \n",
      " 55  number_of_reviews                             17074 non-null  int64  \n",
      " 56  number_of_reviews_ltm                         17074 non-null  int64  \n",
      " 57  number_of_reviews_l30d                        17074 non-null  int64  \n",
      " 58  first_review                                  10012 non-null  object \n",
      " 59  last_review                                   10012 non-null  object \n",
      " 60  review_scores_rating                          10012 non-null  float64\n",
      " 61  review_scores_accuracy                        9786 non-null   float64\n",
      " 62  review_scores_cleanliness                     9786 non-null   float64\n",
      " 63  review_scores_checkin                         9780 non-null   float64\n",
      " 64  review_scores_communication                   9785 non-null   float64\n",
      " 65  review_scores_location                        9779 non-null   float64\n",
      " 66  review_scores_value                           9778 non-null   float64\n",
      " 67  license                                       0 non-null      float64\n",
      " 68  instant_bookable                              17074 non-null  object \n",
      " 69  calculated_host_listings_count                17074 non-null  int64  \n",
      " 70  calculated_host_listings_count_entire_homes   17074 non-null  int64  \n",
      " 71  calculated_host_listings_count_private_rooms  17074 non-null  int64  \n",
      " 72  calculated_host_listings_count_shared_rooms   17074 non-null  int64  \n",
      " 73  reviews_per_month                             10012 non-null  float64\n",
      "dtypes: float64(24), int64(17), object(33)\n",
      "memory usage: 9.6+ MB\n"
     ]
    }
   ],
   "source": [
    "listings.info()"
   ]
  },
  {
   "cell_type": "code",
   "execution_count": 88,
   "metadata": {},
   "outputs": [],
   "source": [
    "listings.drop(columns=[\"scrape_id\", \"last_scraped\", \"bathrooms\", \"calendar_updated\", \"availability_30\", \"availability_60\", \"availability_90\", \"availability_365\", \"has_availability\", \"calendar_last_scraped\", \"number_of_reviews\", \"number_of_reviews_ltm\", \"number_of_reviews_l30d\", \"first_review\", \"last_review\", \"license\", \"calculated_host_listings_count\", \"calculated_host_listings_count_entire_homes\", \"calculated_host_listings_count_private_rooms\", \"calculated_host_listings_count_shared_rooms\", \"reviews_per_month\", \"neighbourhood_group_cleansed\"], inplace=True); # Drop columns that are not useful for our analysis"
   ]
  },
  {
   "cell_type": "code",
   "execution_count": 89,
   "metadata": {},
   "outputs": [],
   "source": [
    "# Add host information to the listings\n",
    "listings.loc[listings.host_listings_count.isna(), ['host_name']] = \"Jakchai\"\n",
    "listings.loc[listings.host_listings_count.isna(), ['host_since']] = \"2014-01-01\"\n",
    "listings.loc[listings.host_listings_count.isna(), ['host_location']] = \"Bangkok, Thailand\"\n",
    "listings.loc[listings.host_listings_count.isna(), ['host_is_superhost']] = \"f\"\n",
    "listings.loc[listings.host_listings_count.isna(), ['host_thumbnail_url']] = \"https://a0.muscache.com/im/users/21348778/profile_pic/1410835018/original.jpg?aki_policy=profile_small\"\n",
    "listings.loc[listings.host_listings_count.isna(), ['host_picture_url']] = \"https://a0.muscache.com/im/users/21348778/profile_pic/1410835018/original.jpg?aki_policy=profile_x_medium\"\n",
    "listings.loc[listings.host_listings_count.isna(), ['host_total_listings_count']] = 2\n",
    "listings.loc[listings.host_listings_count.isna(), ['host_has_profile_pic']] = 't'\n",
    "listings.loc[listings.host_listings_count.isna(), ['host_identity_verified']] = 't'\n",
    "listings.loc[listings.host_listings_count.isna(), ['host_listings_count']] = 2"
   ]
  },
  {
   "cell_type": "code",
   "execution_count": 90,
   "metadata": {},
   "outputs": [],
   "source": [
    "for column in ['minimum_minimum_nights', 'maximum_minimum_nights', 'minimum_maximum_nights', 'maximum_maximum_nights', 'minimum_nights_avg_ntm', 'maximum_nights_avg_ntm']:\n",
    "    mean = listings[column].mean()\n",
    "    listings[column].fillna(mean, inplace=True)"
   ]
  },
  {
   "cell_type": "code",
   "execution_count": 91,
   "metadata": {},
   "outputs": [
    {
     "name": "stdout",
     "output_type": "stream",
     "text": [
      "<class 'pandas.core.frame.DataFrame'>\n",
      "RangeIndex: 17074 entries, 0 to 17073\n",
      "Data columns (total 52 columns):\n",
      " #   Column                       Non-Null Count  Dtype  \n",
      "---  ------                       --------------  -----  \n",
      " 0   id                           17074 non-null  int64  \n",
      " 1   listing_url                  17074 non-null  object \n",
      " 2   name                         17065 non-null  object \n",
      " 3   description                  16169 non-null  object \n",
      " 4   neighborhood_overview        9459 non-null   object \n",
      " 5   picture_url                  17074 non-null  object \n",
      " 6   host_id                      17074 non-null  int64  \n",
      " 7   host_url                     17074 non-null  object \n",
      " 8   host_name                    17074 non-null  object \n",
      " 9   host_since                   17074 non-null  object \n",
      " 10  host_location                17032 non-null  object \n",
      " 11  host_about                   9833 non-null   object \n",
      " 12  host_response_time           11445 non-null  object \n",
      " 13  host_response_rate           11445 non-null  object \n",
      " 14  host_acceptance_rate         10295 non-null  object \n",
      " 15  host_is_superhost            17074 non-null  object \n",
      " 16  host_thumbnail_url           17074 non-null  object \n",
      " 17  host_picture_url             17074 non-null  object \n",
      " 18  host_neighbourhood           9812 non-null   object \n",
      " 19  host_listings_count          17074 non-null  float64\n",
      " 20  host_total_listings_count    17074 non-null  float64\n",
      " 21  host_verifications           17074 non-null  object \n",
      " 22  host_has_profile_pic         17074 non-null  object \n",
      " 23  host_identity_verified       17074 non-null  object \n",
      " 24  neighbourhood                9459 non-null   object \n",
      " 25  neighbourhood_cleansed       17074 non-null  object \n",
      " 26  latitude                     17074 non-null  float64\n",
      " 27  longitude                    17074 non-null  float64\n",
      " 28  property_type                17074 non-null  object \n",
      " 29  room_type                    17074 non-null  object \n",
      " 30  accommodates                 17074 non-null  int64  \n",
      " 31  bathrooms_text               16937 non-null  object \n",
      " 32  bedrooms                     15371 non-null  float64\n",
      " 33  beds                         16557 non-null  float64\n",
      " 34  amenities                    17074 non-null  object \n",
      " 35  price                        17074 non-null  object \n",
      " 36  minimum_nights               17074 non-null  int64  \n",
      " 37  maximum_nights               17074 non-null  int64  \n",
      " 38  minimum_minimum_nights       17074 non-null  float64\n",
      " 39  maximum_minimum_nights       17074 non-null  float64\n",
      " 40  minimum_maximum_nights       17074 non-null  float64\n",
      " 41  maximum_maximum_nights       17074 non-null  float64\n",
      " 42  minimum_nights_avg_ntm       17074 non-null  float64\n",
      " 43  maximum_nights_avg_ntm       17074 non-null  float64\n",
      " 44  review_scores_rating         10012 non-null  float64\n",
      " 45  review_scores_accuracy       9786 non-null   float64\n",
      " 46  review_scores_cleanliness    9786 non-null   float64\n",
      " 47  review_scores_checkin        9780 non-null   float64\n",
      " 48  review_scores_communication  9785 non-null   float64\n",
      " 49  review_scores_location       9779 non-null   float64\n",
      " 50  review_scores_value          9778 non-null   float64\n",
      " 51  instant_bookable             17074 non-null  object \n",
      "dtypes: float64(19), int64(5), object(28)\n",
      "memory usage: 6.8+ MB\n"
     ]
    }
   ],
   "source": [
    "listings.info()"
   ]
  },
  {
   "cell_type": "code",
   "execution_count": 92,
   "metadata": {},
   "outputs": [],
   "source": [
    "listings.to_csv('../airbnb/listings_clean.csv', index=False, encoding='utf-8')"
   ]
  }
 ],
 "metadata": {
  "kernelspec": {
   "display_name": "Python 3.10.7 64-bit",
   "language": "python",
   "name": "python3"
  },
  "language_info": {
   "codemirror_mode": {
    "name": "ipython",
    "version": 3
   },
   "file_extension": ".py",
   "mimetype": "text/x-python",
   "name": "python",
   "nbconvert_exporter": "python",
   "pygments_lexer": "ipython3",
   "version": "3.10.8"
  },
  "orig_nbformat": 4,
  "vscode": {
   "interpreter": {
    "hash": "b0fa6594d8f4cbf19f97940f81e996739fb7646882a419484c72d19e05852a7e"
   }
  }
 },
 "nbformat": 4,
 "nbformat_minor": 2
}
