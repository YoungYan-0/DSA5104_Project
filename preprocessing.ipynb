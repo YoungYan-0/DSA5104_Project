{
 "cells": [
  {
   "cell_type": "code",
   "execution_count": 3,
   "metadata": {},
   "outputs": [],
   "source": [
    "import pandas as pd;\n",
    "\n",
    "# Read the data\n",
    "listings = pd.read_csv('../airbnb/listings.csv')"
   ]
  },
  {
   "cell_type": "code",
   "execution_count": 7,
   "metadata": {},
   "outputs": [],
   "source": [
    "for column in listings.columns:\n",
    "    if listings[column].dtype == 'number':\n",
    "        mean = listings[column].mean()\n",
    "        listings[column].fillna(mean, inplace=True)"
   ]
  },
  {
   "cell_type": "code",
   "execution_count": 8,
   "metadata": {},
   "outputs": [],
   "source": [
    "reviews = pd.read_csv('../airbnb/reviews.csv')\n",
    "\n",
    "for column in reviews.columns:\n",
    "    if reviews[column].dtype == 'number':\n",
    "        mean = reviews[column].mean()\n",
    "        reviews[column].fillna(mean, inplace=True)"
   ]
  },
  {
   "cell_type": "code",
   "execution_count": 9,
   "metadata": {},
   "outputs": [],
   "source": [
    "calendar = pd.read_csv('../airbnb/calendar.csv')\n",
    "\n",
    "for column in calendar.columns:\n",
    "    if calendar[column].dtype == 'number':\n",
    "        mean = calendar[column].mean()\n",
    "        calendar[column].fillna(mean, inplace=True)"
   ]
  },
  {
   "cell_type": "code",
   "execution_count": null,
   "metadata": {},
   "outputs": [],
   "source": [
    "listings = listings.drop_duplicates()\n",
    "reviews = reviews.drop_duplicates()\n",
    "calendar = calendar.drop_duplicates()"
   ]
  }
 ],
 "metadata": {
  "kernelspec": {
   "display_name": "Python 3.10.7 64-bit",
   "language": "python",
   "name": "python3"
  },
  "language_info": {
   "codemirror_mode": {
    "name": "ipython",
    "version": 3
   },
   "file_extension": ".py",
   "mimetype": "text/x-python",
   "name": "python",
   "nbconvert_exporter": "python",
   "pygments_lexer": "ipython3",
   "version": "3.10.8"
  },
  "orig_nbformat": 4,
  "vscode": {
   "interpreter": {
    "hash": "b0fa6594d8f4cbf19f97940f81e996739fb7646882a419484c72d19e05852a7e"
   }
  }
 },
 "nbformat": 4,
 "nbformat_minor": 2
}
