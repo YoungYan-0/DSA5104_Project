{
 "cells": [
  {
   "cell_type": "code",
   "execution_count": 1,
   "id": "2d036a8c-802d-4b8a-9e87-a38d057c889c",
   "metadata": {},
   "outputs": [],
   "source": [
    "import pandas as pd\n",
    "import pymongo\n",
    "import csv"
   ]
  },
  {
   "cell_type": "code",
   "execution_count": 14,
   "id": "771ad863-bd08-4fa4-ad84-3ed18d7c5e57",
   "metadata": {},
   "outputs": [],
   "source": [
    "client = pymongo.MongoClient(\"localhost:27017\")\n",
    "db = client[\"Airbnb\"]"
   ]
  },
  {
   "cell_type": "code",
   "execution_count": 18,
   "id": "e2a1d600-2423-44fb-a295-c7e8f87f05f2",
   "metadata": {},
   "outputs": [
    {
     "name": "stdout",
     "output_type": "stream",
     "text": [
      "{'_id': ObjectId('636b583c69c65a2eb1f7fec5'), 'availability': True}\n"
     ]
    }
   ],
   "source": [
    "listing = db['Listing'].find_one({\"name\": \"Nice room with superb city view\"})\n",
    "availability = db['Calendar'].find({\"property\": listing['_id'], \"date\": \"2022-07-20\"}, {\"availability\": 1})\n",
    "\n",
    "for a in availability:\n",
    "    print(a)"
   ]
  },
  {
   "cell_type": "code",
   "execution_count": 40,
   "id": "d5e01689-0df4-4a17-91cc-65b1c5ff77d9",
   "metadata": {},
   "outputs": [
    {
     "data": {
      "text/plain": [
       "[{'_id': '614381661',\n",
       "  'customer': '19143977',\n",
       "  'property': '39544047',\n",
       "  'start_date': '2020-02-23',\n",
       "  'end_date': '2020-02-26',\n",
       "  'total_price': 1800.0,\n",
       "  'review': 'ห้องดี ใหม่ สะอาด เจ้าของอัธยาศัยดีมาก แนะนำดี ติดต่อได้ตลอดเวลา'},\n",
       " {'_id': '597651173',\n",
       "  'customer': '317920443',\n",
       "  'property': '39544047',\n",
       "  'start_date': '2020-01-12',\n",
       "  'end_date': '2020-01-15',\n",
       "  'total_price': 1800.0,\n",
       "  'review': 'The room was very new, cleand and well funished although the building itself was old. K. Noodee was very kind, respondsive and very helpful.  There are 7-11 and other street food around the building. Just 5-10  mins walk for Impact arena.'},\n",
       " {'_id': '568816394',\n",
       "  'customer': '163790201',\n",
       "  'property': '39544047',\n",
       "  'start_date': '2019-11-18',\n",
       "  'end_date': '2019-11-21',\n",
       "  'total_price': 1800.0,\n",
       "  'review': 'The landlord sister is really kind and lovely. Her loveliness has brought a lot of color to my trip, and the room is clean and tidy'},\n",
       " {'_id': '568138380',\n",
       "  'customer': '288635322',\n",
       "  'property': '39544047',\n",
       "  'start_date': '2019-11-14',\n",
       "  'end_date': '2019-11-20',\n",
       "  'total_price': 3600.0,\n",
       "  'review': 'A nice room, very close to impact arena, also near to the outlet, can buy things in 5minutes, 711 is right in front of the building, very convenient! I may come back next time!'},\n",
       " {'_id': '564106023',\n",
       "  'customer': '273940743',\n",
       "  'property': '39544047',\n",
       "  'start_date': '2019-11-09',\n",
       "  'end_date': '2019-11-13',\n",
       "  'total_price': 2400.0,\n",
       "  'review': 'Good communication, basic and clean accommodation'},\n",
       " {'_id': '566622127',\n",
       "  'customer': '143251478',\n",
       "  'property': '39544047',\n",
       "  'start_date': '2019-11-09',\n",
       "  'end_date': '2019-11-10',\n",
       "  'total_price': 600.0,\n",
       "  'review': 'Good, clean, cheap accomodation in proximity to the airport'}]"
      ]
     },
     "execution_count": 40,
     "metadata": {},
     "output_type": "execute_result"
    }
   ],
   "source": [
    "transactions = db['Transaction'].find({\"property\": \"39544047\"}, {\"customer\": 1, \"property\": 1, \"start_date\": 1, \"end_date\": 1, \"total_price\": 1, \"review\": 1}).sort(\"start_date\", -1)\n",
    "transactions = list(transactions)\n",
    "\n",
    "# for t in transactions:\n",
    "#     print(t)\n",
    "\n",
    "transactions"
   ]
  },
  {
   "cell_type": "code",
   "execution_count": 47,
   "id": "fcfcb9cf-f436-4c87-9895-734b46023c0e",
   "metadata": {},
   "outputs": [
    {
     "data": {
      "text/plain": [
       "[{'_id': 19143977, 'name': 'Ploi'},\n",
       " {'_id': 143251478, 'name': 'Oliver'},\n",
       " {'_id': 163790201, 'name': 'Yang'},\n",
       " {'_id': 273940743, 'name': 'Kim'},\n",
       " {'_id': 288635322, 'name': 'Doris'},\n",
       " {'_id': 317920443, 'name': 'Kunat'}]"
      ]
     },
     "execution_count": 47,
     "metadata": {},
     "output_type": "execute_result"
    }
   ],
   "source": [
    "customers = db.Customer.find({\"_id\": {\"$in\": [int(t['customer']) for t in transactions]}})\n",
    "customers = list(customers)\n",
    "\n",
    "customers"
   ]
  },
  {
   "cell_type": "code",
   "execution_count": 54,
   "id": "e355e7ce-f92a-49bf-88d8-f4ba1059827c",
   "metadata": {},
   "outputs": [
    {
     "data": {
      "text/plain": [
       "[{'_id': 39544047, 'review_scores_rating': 4.67}]"
      ]
     },
     "execution_count": 54,
     "metadata": {},
     "output_type": "execute_result"
    }
   ],
   "source": [
    "list(db.Listing.find({\"_id\": {\"$in\": [int(t['property']) for t in transactions]}}, {\"review_scores_rating\": 1}))"
   ]
  },
  {
   "cell_type": "code",
   "execution_count": 56,
   "id": "51397b98-1cda-4c7d-b8c0-a506363db743",
   "metadata": {},
   "outputs": [
    {
     "data": {
      "text/plain": [
       "[{'_id': 120437,\n",
       "  'name': 'Nuttee',\n",
       "  'description': 'Hi All, I am nuttee patranavik from Bangkok, Thailand.always travel but easy to connect via airbnb..',\n",
       "  'response_time': nan,\n",
       "  'response_rate': 0.0,\n",
       "  'is_super_host': False,\n",
       "  'email_verified': True,\n",
       "  'phone_verified': True,\n",
       "  'identity_verified': True,\n",
       "  'url': 'https://www.airbnb.com/users/show/120437'}]"
      ]
     },
     "execution_count": 56,
     "metadata": {},
     "output_type": "execute_result"
    }
   ],
   "source": [
    "list(db.Host.find({\"_id\": listing['host']}, {\"name\": 1, \"description\": 1, \"response_rate\": 1, \"response_time\": 1, \"is_super_host\": 1, \"email_verified\": 1, \"phone_verified\": 1, \"identity_verified\": 1, \"url\": 1}))"
   ]
  },
  {
   "cell_type": "code",
   "execution_count": 57,
   "id": "00d25e43-f3c8-4ee3-a7af-0edc7bf6d124",
   "metadata": {},
   "outputs": [
    {
     "data": {
      "text/plain": [
       "[{'_id': 56390086,\n",
       "  'name': 'John',\n",
       "  'since': '2016-01-27',\n",
       "  'location': \"Nuku'alofa, Tongatapu, Tonga\",\n",
       "  'description': 'Professional who works in a Private Business in Tonga. Married with three young kids who are now living in Thailand so I travel between  the two countries. I do love the spirit of travel and enjoy different cultures and all sports. Australian/Tongan heritage.Favorite place to visit is larger cities like New York, Bangkok and Hong Kong - probably because I spend most of my time on a small Pacific Island which is quite isolated. Into all forms of music really - but easy listening and mid 80s/mid 90s always a favorite from Wham to 2pac. I am a foodie and will try everything - my favorite food is Cabonara Pasta and Spicy Glass Noodles. Oh and I love my coffees. I have a sweet tooth but try and save that for Saturdays only.I love to try and be fit and healthy though I can enjoy a few drinks especially when with great company. I am courteous and kind so would be a  ideal tenant. Easy around kids and others as I grew up living in big households with big families. ',\n",
       "  'response_time': nan,\n",
       "  'response_rate': 0.0,\n",
       "  'acceptance': 0.0,\n",
       "  'is_super_host': False,\n",
       "  'neighbourhood': nan,\n",
       "  'email_verified': True,\n",
       "  'phone_verified': True,\n",
       "  'work_email_verified': False,\n",
       "  'identity_verified': False,\n",
       "  'picture': 'https://a0.muscache.com/im/pictures/user/230846f9-b5ca-4f8a-ab49-67da9a4453cf.jpg?aki_policy=profile_x_medium',\n",
       "  'thumbnail': 'https://a0.muscache.com/im/pictures/user/230846f9-b5ca-4f8a-ab49-67da9a4453cf.jpg?aki_policy=profile_small',\n",
       "  'url': 'https://www.airbnb.com/users/show/56390086'},\n",
       " {'_id': 20648747,\n",
       "  'name': 'John',\n",
       "  'since': '2014-08-28',\n",
       "  'location': 'Bangkok, Thailand',\n",
       "  'description': nan,\n",
       "  'response_time': 'within an hour',\n",
       "  'response_rate': 1.0,\n",
       "  'acceptance': 0.96,\n",
       "  'is_super_host': True,\n",
       "  'neighbourhood': 'Upper Sukhumvit',\n",
       "  'email_verified': True,\n",
       "  'phone_verified': True,\n",
       "  'work_email_verified': False,\n",
       "  'identity_verified': True,\n",
       "  'picture': 'https://a0.muscache.com/im/pictures/user/23c555ad-e5d9-4d91-bf87-a662067cc91d.jpg?aki_policy=profile_x_medium',\n",
       "  'thumbnail': 'https://a0.muscache.com/im/pictures/user/23c555ad-e5d9-4d91-bf87-a662067cc91d.jpg?aki_policy=profile_small',\n",
       "  'url': 'https://www.airbnb.com/users/show/20648747'},\n",
       " {'_id': 124990965,\n",
       "  'name': 'John',\n",
       "  'since': '2017-04-09',\n",
       "  'location': 'Bangkok, Bangkok, Thailand',\n",
       "  'description': 'I like traveling',\n",
       "  'response_time': 'within an hour',\n",
       "  'response_rate': 1.0,\n",
       "  'acceptance': 0.2,\n",
       "  'is_super_host': False,\n",
       "  'neighbourhood': 'Suan Luang',\n",
       "  'email_verified': True,\n",
       "  'phone_verified': True,\n",
       "  'work_email_verified': False,\n",
       "  'identity_verified': True,\n",
       "  'picture': 'https://a0.muscache.com/im/pictures/user/9be58038-5ee9-4c25-898e-4b5456756440.jpg?aki_policy=profile_x_medium',\n",
       "  'thumbnail': 'https://a0.muscache.com/im/pictures/user/9be58038-5ee9-4c25-898e-4b5456756440.jpg?aki_policy=profile_small',\n",
       "  'url': 'https://www.airbnb.com/users/show/124990965'},\n",
       " {'_id': 138632031,\n",
       "  'name': 'John',\n",
       "  'since': '2017-07-04',\n",
       "  'location': 'Bangkok, Thailand',\n",
       "  'description': nan,\n",
       "  'response_time': nan,\n",
       "  'response_rate': 0.0,\n",
       "  'acceptance': 0.0,\n",
       "  'is_super_host': False,\n",
       "  'neighbourhood': 'Klong Toey',\n",
       "  'email_verified': True,\n",
       "  'phone_verified': True,\n",
       "  'work_email_verified': False,\n",
       "  'identity_verified': False,\n",
       "  'picture': 'https://a0.muscache.com/im/pictures/user/180f6245-4114-4d0c-a8d1-2715eeea38bf.jpg?aki_policy=profile_x_medium',\n",
       "  'thumbnail': 'https://a0.muscache.com/im/pictures/user/180f6245-4114-4d0c-a8d1-2715eeea38bf.jpg?aki_policy=profile_small',\n",
       "  'url': 'https://www.airbnb.com/users/show/138632031'},\n",
       " {'_id': 213660706,\n",
       "  'name': 'John',\n",
       "  'since': '2018-09-05',\n",
       "  'location': 'JP',\n",
       "  'description': nan,\n",
       "  'response_time': nan,\n",
       "  'response_rate': 0.0,\n",
       "  'acceptance': 0.0,\n",
       "  'is_super_host': False,\n",
       "  'neighbourhood': nan,\n",
       "  'email_verified': True,\n",
       "  'phone_verified': True,\n",
       "  'work_email_verified': False,\n",
       "  'identity_verified': False,\n",
       "  'picture': 'https://a0.muscache.com/im/pictures/user/9450d7d2-14c5-4eeb-b0a6-494df9d2881e.jpg?aki_policy=profile_x_medium',\n",
       "  'thumbnail': 'https://a0.muscache.com/im/pictures/user/9450d7d2-14c5-4eeb-b0a6-494df9d2881e.jpg?aki_policy=profile_small',\n",
       "  'url': 'https://www.airbnb.com/users/show/213660706'},\n",
       " {'_id': 158151959,\n",
       "  'name': 'John',\n",
       "  'since': '2017-11-10',\n",
       "  'location': 'Chatuchak, Bangkok, Thailand',\n",
       "  'description': nan,\n",
       "  'response_time': 'within an hour',\n",
       "  'response_rate': 1.0,\n",
       "  'acceptance': 0.0,\n",
       "  'is_super_host': False,\n",
       "  'neighbourhood': nan,\n",
       "  'email_verified': True,\n",
       "  'phone_verified': True,\n",
       "  'work_email_verified': False,\n",
       "  'identity_verified': True,\n",
       "  'picture': 'https://a0.muscache.com/im/pictures/user/9f0c4878-57c2-4ddf-a332-99a71a798bca.jpg?aki_policy=profile_x_medium',\n",
       "  'thumbnail': 'https://a0.muscache.com/im/pictures/user/9f0c4878-57c2-4ddf-a332-99a71a798bca.jpg?aki_policy=profile_small',\n",
       "  'url': 'https://www.airbnb.com/users/show/158151959'},\n",
       " {'_id': 395490332,\n",
       "  'name': 'John',\n",
       "  'since': '2021-04-04',\n",
       "  'location': 'Bangkok, Bangkok, Thailand',\n",
       "  'description': 'Studied in Canada and UK before ',\n",
       "  'response_time': nan,\n",
       "  'response_rate': 0.0,\n",
       "  'acceptance': 0.0,\n",
       "  'is_super_host': False,\n",
       "  'neighbourhood': nan,\n",
       "  'email_verified': False,\n",
       "  'phone_verified': True,\n",
       "  'work_email_verified': False,\n",
       "  'identity_verified': True,\n",
       "  'picture': 'https://a0.muscache.com/defaults/user_pic-225x225.png?v=3',\n",
       "  'thumbnail': 'https://a0.muscache.com/defaults/user_pic-50x50.png?v=3',\n",
       "  'url': 'https://www.airbnb.com/users/show/395490332'}]"
      ]
     },
     "execution_count": 57,
     "metadata": {},
     "output_type": "execute_result"
    }
   ],
   "source": [
    "list(db.Host.find({\"name\": \"John\"}))"
   ]
  },
  {
   "cell_type": "code",
   "execution_count": 63,
   "id": "a3a692b4-0a93-40aa-8188-c30ae99bb775",
   "metadata": {},
   "outputs": [
    {
     "data": {
      "text/plain": [
       "{'_id': 27934,\n",
       " 'name': 'Nice room with superb city view',\n",
       " 'description': 'Our cool and comfortable one bedroom apartment in city center with amazing Bangkok view. It comfortably fits two to three persons and is located on a main street, just three blocks from shopping area.<br /><br /><b>The space</b><br />Our cool and comfortable one bedroom apartment in city center with amazing Bangkok view. It comfortably fits two to three persons and is located on a main street, just three blocks from shopping area. <br /><br />-full furnished with KITCHEN and WASHING MACHINE.<br />-luxury, quiet and clean<br />-located on 19th floor of 33 floor building<br />-building facilities : 2 SWIMMING POOLS and GYM room<br />-DOWNTOWN Bangkok, Thailand <br />-fascinating BEST BANGKOK CITY VIEW both day and night <br />-surrounded with famous shopping malls and leading department stores in short distance <br />-15 mins. by taxi or tuktuk to main Airport link train station <br />-5 mins. walk to RANGNAM rd. which has many food stalls, restaurants and 24 hrs. convenience stores alon',\n",
       " 'neighbourhood': 'Ratchathewi',\n",
       " 'overview': 'It is very center of Bangkok and easy access to many interesting places and also other places that close to Bangkok.',\n",
       " 'host': 120437,\n",
       " 'latitude': 13.75983,\n",
       " 'longitude': 100.54134,\n",
       " 'property_type': 'Entire condo',\n",
       " 'accommodates': 3,\n",
       " 'bathrooms': '1.5 baths',\n",
       " 'bedrooms': 1.0,\n",
       " 'beds': 1.0,\n",
       " 'amenities': '[\"Wifi\", \"Air conditioning\", \"Essentials\", \"Refrigerator\", \"Microwave\", \"Long term stays allowed\", \"Iron\", \"Smoke alarm\", \"Pool\", \"Shampoo\", \"Kitchen\", \"Washer\", \"Stove\", \"TV\", \"Dryer\", \"Host greets you\", \"Hair dryer\", \"Patio or balcony\", \"Fire extinguisher\", \"Free parking on premises\", \"Hangers\", \"Elevator\", \"Luggage dropoff allowed\", \"Dishes and silverware\", \"Gym\", \"Hot water\"]',\n",
       " 'review_scores_rating': 4.85,\n",
       " 'review_scores_accuracy': 4.95,\n",
       " 'review_scores_cleanliness': 4.81,\n",
       " 'review_scores_checkin': 4.97,\n",
       " 'review_scores_communication': 4.91,\n",
       " 'review_scores_location': 4.66,\n",
       " 'review_scores_value': 4.75,\n",
       " 'picture': 'https://a0.muscache.com/pictures/566374/23157b6e_original.jpg',\n",
       " 'url': 'https://www.airbnb.com/rooms/27934'}"
      ]
     },
     "execution_count": 63,
     "metadata": {},
     "output_type": "execute_result"
    }
   ],
   "source": [
    "listing"
   ]
  },
  {
   "cell_type": "code",
   "execution_count": null,
   "id": "eb9ce18c-0c17-44b7-aaa9-512a471734b8",
   "metadata": {},
   "outputs": [],
   "source": [
    "db.Calendar.updateMany({\"property\": listing['_id'], \"date\": {\"$gte\": \"2022-06-21\", \"$lt\": \"2022-06-22\"}}, {\"$set\": {\"availability\": False}})"
   ]
  },
  {
   "cell_type": "code",
   "execution_count": null,
   "id": "7efacacd-21d3-4315-a31d-84d2d34a09bf",
   "metadata": {},
   "outputs": [],
   "source": [
    "list(db.Listing.find({\"neighbourhood\": \"Sathon\", \"bedrooms\": 1, \"beds\": 1, \"accommodates\": 2, \"review_scores_rating\": {\"$gte\": 4}}))"
   ]
  }
 ],
 "metadata": {
  "kernelspec": {
   "display_name": "Python 3 (ipykernel)",
   "language": "python",
   "name": "python3"
  },
  "language_info": {
   "codemirror_mode": {
    "name": "ipython",
    "version": 3
   },
   "file_extension": ".py",
   "mimetype": "text/x-python",
   "name": "python",
   "nbconvert_exporter": "python",
   "pygments_lexer": "ipython3",
   "version": "3.9.5"
  }
 },
 "nbformat": 4,
 "nbformat_minor": 5
}
