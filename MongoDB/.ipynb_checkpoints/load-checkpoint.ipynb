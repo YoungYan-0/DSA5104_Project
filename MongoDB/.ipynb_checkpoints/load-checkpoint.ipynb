{
 "cells": [
  {
   "cell_type": "code",
   "execution_count": null,
   "id": "f3c77306-88ff-4388-82d8-31e6038c4070",
   "metadata": {},
   "outputs": [],
   "source": [
    "import pandas as pd\n",
    "import pymongo\n",
    "import csv"
   ]
  },
  {
   "cell_type": "code",
   "execution_count": null,
   "id": "26aaef0c-419e-464e-9f49-2510676b0b28",
   "metadata": {},
   "outputs": [],
   "source": [
    "client = pymongo.MongoClient(\"localhost:27017\")\n",
    "airbnbDB = client[\"Airbnb\"]"
   ]
  },
  {
   "cell_type": "markdown",
   "id": "e7761f0b-e76d-4805-acfb-3f9aa73c132c",
   "metadata": {
    "tags": []
   },
   "source": [
    "## Load Customers"
   ]
  },
  {
   "cell_type": "code",
   "execution_count": null,
   "id": "8c210988-fdab-42e9-b17f-a9bc79e118d6",
   "metadata": {},
   "outputs": [],
   "source": [
    "customers = pd.read_csv('customer.csv', delimiter='|')\n",
    "customers['_id'] = customers['cid']\n",
    "customers=customers.drop(columns=['cid'])\n",
    "customers"
   ]
  },
  {
   "cell_type": "code",
   "execution_count": null,
   "id": "6d47e8d3-23c5-457c-baa5-249c39c5d270",
   "metadata": {},
   "outputs": [],
   "source": [
    "customerCollection = airbnbDB[\"Customer\"]\n",
    "customerCollection.insert_many(customers.to_dict('records'))"
   ]
  },
  {
   "cell_type": "markdown",
   "id": "1dfcc5b8-4d73-42fd-9655-7263278485a8",
   "metadata": {
    "tags": []
   },
   "source": [
    "## Load Hosts"
   ]
  },
  {
   "cell_type": "code",
   "execution_count": null,
   "id": "96f8e9a0-ff5c-4e8f-8f73-ab404d1d0139",
   "metadata": {},
   "outputs": [],
   "source": [
    "hosts = pd.read_csv('host.csv', delimiter=',')\n",
    "hosts['_id'] = hosts['hid']\n",
    "hosts['is_super_host'] = hosts['is_super_host'].astype(bool)\n",
    "hosts['email_verified'] = hosts['email_verified'].astype(bool)\n",
    "hosts['phone_verified'] = hosts['phone_verified'].astype(bool)\n",
    "hosts['work_email_verified'] = hosts['work_email_verified'].astype(bool)\n",
    "hosts['identity_verified'] = hosts['identity_verified'].astype(bool)\n",
    "hosts = hosts.drop(columns=['hid'])\n",
    "hosts.head()"
   ]
  },
  {
   "cell_type": "code",
   "execution_count": null,
   "id": "c92c310e-9d3e-462f-993a-44e3cc2db5e2",
   "metadata": {},
   "outputs": [],
   "source": [
    "hostCollection = airbnbDB[\"Host\"]\n",
    "hostCollection.insert_many(hosts.to_dict('records'))"
   ]
  },
  {
   "cell_type": "markdown",
   "id": "6cabbdc6-55fd-427f-88c9-273d5ffdf342",
   "metadata": {
    "tags": []
   },
   "source": [
    "## Load Listings"
   ]
  },
  {
   "cell_type": "code",
   "execution_count": null,
   "id": "00277513-1301-4d15-bfc5-1a687d863ef0",
   "metadata": {},
   "outputs": [],
   "source": [
    "listings = pd.read_csv('listing.csv', delimiter='|')\n",
    "listings['_id'] = listings['lid']\n",
    "listings = listings.drop(columns=['lid'])\n",
    "\n",
    "listings.head()"
   ]
  },
  {
   "cell_type": "code",
   "execution_count": null,
   "id": "0958cf9f-6866-4649-8c39-06ce354de108",
   "metadata": {},
   "outputs": [],
   "source": [
    "listingCollection = airbnbDB[\"Listing\"]\n",
    "listingCollection.insert_many(listings.to_dict('records'))"
   ]
  },
  {
   "cell_type": "markdown",
   "id": "e31adca7-0d93-438f-aa76-0fa510608841",
   "metadata": {
    "tags": []
   },
   "source": [
    "## Load Calendar"
   ]
  },
  {
   "cell_type": "code",
   "execution_count": null,
   "id": "65242570-1aed-47e5-a0bb-b0e455890b78",
   "metadata": {},
   "outputs": [],
   "source": [
    "# calendars = pd.read_csv('calendar.csv', delimiter='|')\n",
    "# calendars['availability'] = calendars['availability'].astype(bool)\n",
    "# calendars['calendar'] = calendars.to_dict('records')\n",
    "# calendars = calendars[['property', 'calendar']]\n",
    "# calendars = calendars.rename(columns={'property':'_id'})\n",
    "# calendars = pd.DataFrame(calendars.groupby('_id')['calendar'].apply(list))\n",
    "# # calendars.drop_duplicates(subset=['_id'], inplace=True)\n",
    "\n",
    "# calendars.head()\n",
    "\n",
    "# listings = listings.merge(calendars, on='_id')\n",
    "# listings.head()"
   ]
  },
  {
   "cell_type": "code",
   "execution_count": null,
   "id": "03a7dd7e-8c04-45b1-98b1-08f8ff2271ab",
   "metadata": {},
   "outputs": [],
   "source": [
    "calendars = pd.read_csv('calendar.csv', delimiter='|')\n",
    "calendars['availability'] = calendars['availability'].astype(bool)\n",
    "\n",
    "calendars"
   ]
  },
  {
   "cell_type": "code",
   "execution_count": null,
   "id": "ac0c8c81-9483-4381-b1c8-270d42187757",
   "metadata": {},
   "outputs": [],
   "source": [
    "calendarCollection = airbnbDB['Calendar']\n",
    "calendarCollection.insert_many(calendars.to_dict('records'))"
   ]
  },
  {
   "cell_type": "markdown",
   "id": "99bdc183-786c-4e87-9f5e-980a19041663",
   "metadata": {
    "tags": []
   },
   "source": [
    "## Load Transactions"
   ]
  },
  {
   "cell_type": "code",
   "execution_count": null,
   "id": "593724dd-c64e-4fb2-af2b-984edb2f4f4b",
   "metadata": {},
   "outputs": [],
   "source": [
    "transactions = pd.read_csv('transactions.csv', delimiter='|')\n",
    "transactions.rename(columns={'tid':'_id'}, inplace=True)\n",
    "transactions['_id'] = transactions['_id'].astype('int64')\n",
    "\n",
    "transactions.head()"
   ]
  },
  {
   "cell_type": "code",
   "execution_count": null,
   "id": "892798bd-40ff-45ff-aea4-3039f3004ef8",
   "metadata": {},
   "outputs": [],
   "source": [
    "transactionCollection = airbnbDB['Transaction']\n",
    "transactionCollection.insert_many(transactions.to_dict('records'))"
   ]
  },
  {
   "cell_type": "code",
   "execution_count": null,
   "id": "2a2e09c5-d86e-4bcd-9b63-14f2a146bab6",
   "metadata": {},
   "outputs": [],
   "source": []
  }
 ],
 "metadata": {
  "kernelspec": {
   "display_name": "Python 3 (ipykernel)",
   "language": "python",
   "name": "python3"
  },
  "language_info": {
   "codemirror_mode": {
    "name": "ipython",
    "version": 3
   },
   "file_extension": ".py",
   "mimetype": "text/x-python",
   "name": "python",
   "nbconvert_exporter": "python",
   "pygments_lexer": "ipython3",
   "version": "3.9.5"
  }
 },
 "nbformat": 4,
 "nbformat_minor": 5
}
