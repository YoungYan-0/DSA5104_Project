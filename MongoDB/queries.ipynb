{
 "cells": [
  {
   "cell_type": "code",
   "execution_count": 1,
   "id": "2d036a8c-802d-4b8a-9e87-a38d057c889c",
   "metadata": {},
   "outputs": [],
   "source": [
    "import pandas as pd\n",
    "import pymongo\n",
    "import csv"
   ]
  },
  {
   "cell_type": "code",
   "execution_count": 2,
   "id": "771ad863-bd08-4fa4-ad84-3ed18d7c5e57",
   "metadata": {},
   "outputs": [],
   "source": [
    "client = pymongo.MongoClient(\"localhost:27017\")\n",
    "db = client[\"Airbnb\"]"
   ]
  },
  {
   "cell_type": "code",
   "execution_count": 3,
   "id": "04ac01be-e80b-4acc-a04f-4b4723772cb5",
   "metadata": {},
   "outputs": [],
   "source": [
    "def getExecutionTimeBySecond(cursor):\n",
    "    return str(cursor.explain()['executionStats']['executionTimeMillis']/1000) + ' sec'"
   ]
  },
  {
   "cell_type": "code",
   "execution_count": 4,
   "id": "e2a1d600-2423-44fb-a295-c7e8f87f05f2",
   "metadata": {},
   "outputs": [
    {
     "name": "stdout",
     "output_type": "stream",
     "text": [
      "[{'_id': ObjectId('636b583c69c65a2eb1f7fec5'), 'availability': True}]\n",
      "2.765 sec\n"
     ]
    }
   ],
   "source": [
    "listing = db['Listing'].find_one({\"name\": \"Nice room with superb city view\"})\n",
    "availability = db['Calendar'].find({\"property\": listing['_id'], \"date\": \"2022-07-20\"}, {\"availability\": 1})\n",
    "\n",
    "print(list(availability))\n",
    "print(getExecutionTimeBySecond(availability))"
   ]
  },
  {
   "cell_type": "code",
   "execution_count": 5,
   "id": "24ef73e4-0661-4a22-a7e4-818c9e6af091",
   "metadata": {},
   "outputs": [
    {
     "data": {
      "text/plain": [
       "{'n': 1, 'nModified': 0, 'ok': 1.0, 'updatedExisting': True}"
      ]
     },
     "execution_count": 5,
     "metadata": {},
     "output_type": "execute_result"
    }
   ],
   "source": [
    "update = db.Calendar.update_many({\"property\": listing['_id'], \"date\": {\"$gte\": \"2022-06-21\", \"$lt\": \"2022-06-22\"}}, {\"$set\": {\"availability\": False}})\n",
    "update.raw_result"
   ]
  },
  {
   "cell_type": "code",
   "execution_count": 6,
   "id": "cb3c3b22-d2d4-492f-90c3-da0089915443",
   "metadata": {},
   "outputs": [
    {
     "name": "stdout",
     "output_type": "stream",
     "text": [
      "records length:120\n",
      "0.014 sec\n"
     ]
    }
   ],
   "source": [
    "listings = db.Listing.find({\"neighbourhood\": \"Sathon\", \"bedrooms\": 1, \"beds\": 1, \"accommodates\": 2, \"review_scores_rating\": {\"$gte\": 4}})\n",
    "\n",
    "print('records length:' + str(len(list(listings))))\n",
    "print(getExecutionTimeBySecond(listings))"
   ]
  },
  {
   "cell_type": "code",
   "execution_count": 7,
   "id": "08b8a8dc-9fda-4d86-a772-ace23b641c59",
   "metadata": {},
   "outputs": [
    {
     "data": {
      "text/plain": [
       "{'n': 1, 'nModified': 0, 'ok': 1.0, 'updatedExisting': True}"
      ]
     },
     "execution_count": 7,
     "metadata": {},
     "output_type": "execute_result"
    }
   ],
   "source": [
    "update = db.Transaction.update_one({\"_id\": 180261}, {\"$set\": {\"review\":\"Nice!!\"}})\n",
    "update.raw_result"
   ]
  },
  {
   "cell_type": "code",
   "execution_count": 8,
   "id": "358ae670-3b50-4d38-8578-46393903b4a2",
   "metadata": {},
   "outputs": [
    {
     "name": "stdout",
     "output_type": "stream",
     "text": [
      "records length:1825\n",
      "0.012 sec\n"
     ]
    }
   ],
   "source": [
    "hosts = db.Listing.find({\"review_scores_rating\": {\"$gte\": 4}}, {\"host\": 1})\n",
    "hosts = db.Host.find({\"$and\": [{ \"_id\": {\"$in\": [h['host'] for h in list(hosts)]}}, \n",
    "                               {\"response_rate\": {\"$gte\": 1}}]\n",
    "                     }, {'_id': 1})\n",
    "\n",
    "print('records length:' + str(len(list(hosts))))\n",
    "print(getExecutionTimeBySecond(hosts))"
   ]
  },
  {
   "cell_type": "code",
   "execution_count": 9,
   "id": "d5e01689-0df4-4a17-91cc-65b1c5ff77d9",
   "metadata": {},
   "outputs": [
    {
     "name": "stdout",
     "output_type": "stream",
     "text": [
      "records length:289\n",
      "0.084 sec\n"
     ]
    }
   ],
   "source": [
    "customers = db.Customer.find({\"name\": \"Tom\"})\n",
    "\n",
    "print('records length:' + str(len(list(customers))))\n",
    "print(getExecutionTimeBySecond(customers))"
   ]
  },
  {
   "cell_type": "code",
   "execution_count": 10,
   "id": "fcfcb9cf-f436-4c87-9895-734b46023c0e",
   "metadata": {},
   "outputs": [
    {
     "data": {
      "text/plain": [
       "[{'_id': 19143977, 'name': 'Ploi'},\n",
       " {'_id': 143251478, 'name': 'Oliver'},\n",
       " {'_id': 163790201, 'name': 'Yang'},\n",
       " {'_id': 273940743, 'name': 'Kim'},\n",
       " {'_id': 288635322, 'name': 'Doris'},\n",
       " {'_id': 317920443, 'name': 'Kunat'}]"
      ]
     },
     "execution_count": 10,
     "metadata": {},
     "output_type": "execute_result"
    }
   ],
   "source": [
    "transactions = db.Transaction.find({\"property\": 39544047}, \\\n",
    "                                      {\"customer\": 1, \"property\": 1, \"start_date\": 1, \"end_date\": 1, \"total_price\": 1, \"review\": 1}) \\\n",
    "                                .sort(\"start_date\", -1)\n",
    "transactions = list(transactions)\n",
    "\n",
    "customers = db.Customer.find({\"_id\": {\"$in\": [int(t['customer']) for t in transactions]}})\n",
    "customers = list(customers)\n",
    "\n",
    "customers"
   ]
  },
  {
   "cell_type": "code",
   "execution_count": 11,
   "id": "e355e7ce-f92a-49bf-88d8-f4ba1059827c",
   "metadata": {},
   "outputs": [
    {
     "data": {
      "text/plain": [
       "[{'_id': 39544047, 'review_scores_rating': 4.67}]"
      ]
     },
     "execution_count": 11,
     "metadata": {},
     "output_type": "execute_result"
    }
   ],
   "source": [
    "transactions = db.Transaction.find({\"property\": 39544047}, \\\n",
    "                                      {\"customer\": 1, \"property\": 1, \"start_date\": 1, \"end_date\": 1, \"total_price\": 1, \"review\": 1}) \\\n",
    "                                .sort(\"start_date\", -1)\n",
    "\n",
    "listing = db['Listing'].find_one({\"name\": \"Nice room with superb city view\"})\n",
    "list(db.Listing.find({\"_id\": {\"$in\": [int(t['property']) for t in transactions]}}, {\"review_scores_rating\": 1}))"
   ]
  },
  {
   "cell_type": "code",
   "execution_count": 12,
   "id": "51397b98-1cda-4c7d-b8c0-a506363db743",
   "metadata": {},
   "outputs": [
    {
     "data": {
      "text/plain": [
       "[{'_id': 120437,\n",
       "  'name': 'Nuttee',\n",
       "  'description': 'Hi All, I am nuttee patranavik from Bangkok, Thailand.always travel but easy to connect via airbnb..',\n",
       "  'response_time': nan,\n",
       "  'response_rate': 0.0,\n",
       "  'is_super_host': False,\n",
       "  'email_verified': True,\n",
       "  'phone_verified': True,\n",
       "  'identity_verified': True,\n",
       "  'url': 'https://www.airbnb.com/users/show/120437'}]"
      ]
     },
     "execution_count": 12,
     "metadata": {},
     "output_type": "execute_result"
    }
   ],
   "source": [
    "list(db.Host.find({\"_id\": listing['host']}, {\"name\": 1, \"description\": 1, \"response_rate\": 1, \"response_time\": 1, \"is_super_host\": 1, \"email_verified\": 1, \"phone_verified\": 1, \"identity_verified\": 1, \"url\": 1}))"
   ]
  },
  {
   "cell_type": "code",
   "execution_count": null,
   "id": "4088c0a0-4903-4714-9202-70dacceb3752",
   "metadata": {},
   "outputs": [],
   "source": []
  }
 ],
 "metadata": {
  "kernelspec": {
   "display_name": "Python 3 (ipykernel)",
   "language": "python",
   "name": "python3"
  },
  "language_info": {
   "codemirror_mode": {
    "name": "ipython",
    "version": 3
   },
   "file_extension": ".py",
   "mimetype": "text/x-python",
   "name": "python",
   "nbconvert_exporter": "python",
   "pygments_lexer": "ipython3",
   "version": "3.9.5"
  }
 },
 "nbformat": 4,
 "nbformat_minor": 5
}
